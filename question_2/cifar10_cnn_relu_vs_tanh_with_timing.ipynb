{
 "cells": [
  {
   "cell_type": "markdown",
   "id": "0512edfe",
   "metadata": {},
   "source": [
    "\n",
    "# CIFAR-10 CNN (4 Conv Layers) — ReLU vs Tanh  \n",
    "**Early stop at 25% train error + Per-epoch timing & combined figure**\n"
   ]
  },
  {
   "cell_type": "markdown",
   "id": "b08be9c7",
   "metadata": {},
   "source": [
    "\n",
    "## 0) Setup & Imports\n"
   ]
  },
  {
   "cell_type": "code",
   "execution_count": 4,
   "id": "852ee86c",
   "metadata": {},
   "outputs": [
    {
     "name": "stdout",
     "output_type": "stream",
     "text": [
      "TensorFlow: 2.20.0\n",
      "GPUs: []\n"
     ]
    }
   ],
   "source": [
    "\n",
    "# If TensorFlow is not installed in your environment, uncomment the next line:\n",
    "# !pip install -q tensorflow\n",
    "\n",
    "import os, random, sys, time, math\n",
    "import numpy as np\n",
    "import tensorflow as tf\n",
    "from tensorflow import keras\n",
    "from tensorflow.keras import layers\n",
    "import matplotlib.pyplot as plt\n",
    "\n",
    "print(\"TensorFlow:\", tf.__version__)\n",
    "print(\"GPUs:\", tf.config.list_physical_devices('GPU'))\n"
   ]
  },
  {
   "cell_type": "markdown",
   "id": "8626f851",
   "metadata": {},
   "source": [
    "\n",
    "## 1) Reproducibility & Config\n"
   ]
  },
  {
   "cell_type": "code",
   "execution_count": 5,
   "id": "5ad8d74f",
   "metadata": {},
   "outputs": [],
   "source": [
    "\n",
    "SEED = 42\n",
    "random.seed(SEED); np.random.seed(SEED); tf.random.set_seed(SEED)\n",
    "\n",
    "BATCH_SIZE = 128\n",
    "MAX_EPOCHS = 100\n",
    "TARGET_TRAIN_ACCURACY = 0.75   # 1 - 0.25 training error\n"
   ]
  },
  {
   "cell_type": "markdown",
   "id": "de604f87",
   "metadata": {},
   "source": [
    "\n",
    "## 2) Load CIFAR-10 & Preprocess\n"
   ]
  },
  {
   "cell_type": "code",
   "execution_count": 6,
   "id": "1b003b90",
   "metadata": {},
   "outputs": [
    {
     "name": "stdout",
     "output_type": "stream",
     "text": [
      "Downloading data from https://www.cs.toronto.edu/~kriz/cifar-10-python.tar.gz\n",
      "\u001b[1m170498071/170498071\u001b[0m \u001b[32m━━━━━━━━━━━━━━━━━━━━\u001b[0m\u001b[37m\u001b[0m \u001b[1m13s\u001b[0m 0us/step\n",
      "Train: (50000, 32, 32, 3) (50000,)  Test: (10000, 32, 32, 3) (10000,)\n"
     ]
    }
   ],
   "source": [
    "\n",
    "(x_train, y_train), (x_test, y_test) = keras.datasets.cifar10.load_data()\n",
    "y_train = y_train.squeeze().astype(\"int32\")\n",
    "y_test  = y_test.squeeze().astype(\"int32\")\n",
    "x_train = x_train.astype(\"float32\")/255.0\n",
    "x_test  = x_test.astype(\"float32\")/255.0\n",
    "\n",
    "print(\"Train:\", x_train.shape, y_train.shape, \" Test:\", x_test.shape, y_test.shape)\n"
   ]
  },
  {
   "cell_type": "markdown",
   "id": "09892b97",
   "metadata": {},
   "source": [
    "\n",
    "## 3) Datasets & (Optional) Augmentation\n"
   ]
  },
  {
   "cell_type": "code",
   "execution_count": 7,
   "id": "5cd33812",
   "metadata": {},
   "outputs": [],
   "source": [
    "\n",
    "AUTOTUNE = tf.data.AUTOTUNE\n",
    "\n",
    "# Fixed validation split (10% of training)\n",
    "val_fraction = 0.1\n",
    "val_size = int(len(x_train) * val_fraction)\n",
    "x_val, y_val = x_train[:val_size], y_train[:val_size]\n",
    "x_train_sub, y_train_sub = x_train[val_size:], y_train[val_size:]\n",
    "\n",
    "train_ds = (tf.data.Dataset.from_tensor_slices((x_train_sub, y_train_sub))\n",
    "            .shuffle(10_000, seed=SEED, reshuffle_each_iteration=True)\n",
    "            .batch(BATCH_SIZE).prefetch(AUTOTUNE))\n",
    "val_ds   = tf.data.Dataset.from_tensor_slices((x_val, y_val)).batch(BATCH_SIZE).prefetch(AUTOTUNE)\n",
    "test_ds  = tf.data.Dataset.from_tensor_slices((x_test, y_test)).batch(BATCH_SIZE).prefetch(AUTOTUNE)\n",
    "\n",
    "do_augment = True\n",
    "data_augmentation = keras.Sequential([\n",
    "    layers.RandomFlip(\"horizontal\"),\n",
    "    layers.RandomRotation(0.05),\n",
    "    layers.RandomZoom(0.1),\n",
    "], name=\"augment\")\n"
   ]
  },
  {
   "cell_type": "markdown",
   "id": "96f5ffe6",
   "metadata": {},
   "source": [
    "\n",
    "## 4) Model Builder (Four Conv Layers)\n"
   ]
  },
  {
   "cell_type": "code",
   "execution_count": 8,
   "id": "bb294a3d",
   "metadata": {},
   "outputs": [
    {
     "data": {
      "text/html": [
       "<pre style=\"white-space:pre;overflow-x:auto;line-height:normal;font-family:Menlo,'DejaVu Sans Mono',consolas,'Courier New',monospace\"><span style=\"font-weight: bold\">Model: \"cnn_4conv_relu\"</span>\n",
       "</pre>\n"
      ],
      "text/plain": [
       "\u001b[1mModel: \"cnn_4conv_relu\"\u001b[0m\n"
      ]
     },
     "metadata": {},
     "output_type": "display_data"
    },
    {
     "data": {
      "text/html": [
       "<pre style=\"white-space:pre;overflow-x:auto;line-height:normal;font-family:Menlo,'DejaVu Sans Mono',consolas,'Courier New',monospace\">┏━━━━━━━━━━━━━━━━━━━━━━━━━━━━━━━━━┳━━━━━━━━━━━━━━━━━━━━━━━━┳━━━━━━━━━━━━━━━┓\n",
       "┃<span style=\"font-weight: bold\"> Layer (type)                    </span>┃<span style=\"font-weight: bold\"> Output Shape           </span>┃<span style=\"font-weight: bold\">       Param # </span>┃\n",
       "┡━━━━━━━━━━━━━━━━━━━━━━━━━━━━━━━━━╇━━━━━━━━━━━━━━━━━━━━━━━━╇━━━━━━━━━━━━━━━┩\n",
       "│ images (<span style=\"color: #0087ff; text-decoration-color: #0087ff\">InputLayer</span>)             │ (<span style=\"color: #00d7ff; text-decoration-color: #00d7ff\">None</span>, <span style=\"color: #00af00; text-decoration-color: #00af00\">32</span>, <span style=\"color: #00af00; text-decoration-color: #00af00\">32</span>, <span style=\"color: #00af00; text-decoration-color: #00af00\">3</span>)      │             <span style=\"color: #00af00; text-decoration-color: #00af00\">0</span> │\n",
       "├─────────────────────────────────┼────────────────────────┼───────────────┤\n",
       "│ augment (<span style=\"color: #0087ff; text-decoration-color: #0087ff\">Sequential</span>)            │ (<span style=\"color: #00d7ff; text-decoration-color: #00d7ff\">None</span>, <span style=\"color: #00af00; text-decoration-color: #00af00\">32</span>, <span style=\"color: #00af00; text-decoration-color: #00af00\">32</span>, <span style=\"color: #00af00; text-decoration-color: #00af00\">3</span>)      │             <span style=\"color: #00af00; text-decoration-color: #00af00\">0</span> │\n",
       "├─────────────────────────────────┼────────────────────────┼───────────────┤\n",
       "│ conv2d (<span style=\"color: #0087ff; text-decoration-color: #0087ff\">Conv2D</span>)                 │ (<span style=\"color: #00d7ff; text-decoration-color: #00d7ff\">None</span>, <span style=\"color: #00af00; text-decoration-color: #00af00\">32</span>, <span style=\"color: #00af00; text-decoration-color: #00af00\">32</span>, <span style=\"color: #00af00; text-decoration-color: #00af00\">32</span>)     │           <span style=\"color: #00af00; text-decoration-color: #00af00\">896</span> │\n",
       "├─────────────────────────────────┼────────────────────────┼───────────────┤\n",
       "│ conv2d_1 (<span style=\"color: #0087ff; text-decoration-color: #0087ff\">Conv2D</span>)               │ (<span style=\"color: #00d7ff; text-decoration-color: #00d7ff\">None</span>, <span style=\"color: #00af00; text-decoration-color: #00af00\">32</span>, <span style=\"color: #00af00; text-decoration-color: #00af00\">32</span>, <span style=\"color: #00af00; text-decoration-color: #00af00\">32</span>)     │         <span style=\"color: #00af00; text-decoration-color: #00af00\">9,248</span> │\n",
       "├─────────────────────────────────┼────────────────────────┼───────────────┤\n",
       "│ max_pooling2d (<span style=\"color: #0087ff; text-decoration-color: #0087ff\">MaxPooling2D</span>)    │ (<span style=\"color: #00d7ff; text-decoration-color: #00d7ff\">None</span>, <span style=\"color: #00af00; text-decoration-color: #00af00\">16</span>, <span style=\"color: #00af00; text-decoration-color: #00af00\">16</span>, <span style=\"color: #00af00; text-decoration-color: #00af00\">32</span>)     │             <span style=\"color: #00af00; text-decoration-color: #00af00\">0</span> │\n",
       "├─────────────────────────────────┼────────────────────────┼───────────────┤\n",
       "│ dropout (<span style=\"color: #0087ff; text-decoration-color: #0087ff\">Dropout</span>)               │ (<span style=\"color: #00d7ff; text-decoration-color: #00d7ff\">None</span>, <span style=\"color: #00af00; text-decoration-color: #00af00\">16</span>, <span style=\"color: #00af00; text-decoration-color: #00af00\">16</span>, <span style=\"color: #00af00; text-decoration-color: #00af00\">32</span>)     │             <span style=\"color: #00af00; text-decoration-color: #00af00\">0</span> │\n",
       "├─────────────────────────────────┼────────────────────────┼───────────────┤\n",
       "│ conv2d_2 (<span style=\"color: #0087ff; text-decoration-color: #0087ff\">Conv2D</span>)               │ (<span style=\"color: #00d7ff; text-decoration-color: #00d7ff\">None</span>, <span style=\"color: #00af00; text-decoration-color: #00af00\">16</span>, <span style=\"color: #00af00; text-decoration-color: #00af00\">16</span>, <span style=\"color: #00af00; text-decoration-color: #00af00\">64</span>)     │        <span style=\"color: #00af00; text-decoration-color: #00af00\">18,496</span> │\n",
       "├─────────────────────────────────┼────────────────────────┼───────────────┤\n",
       "│ conv2d_3 (<span style=\"color: #0087ff; text-decoration-color: #0087ff\">Conv2D</span>)               │ (<span style=\"color: #00d7ff; text-decoration-color: #00d7ff\">None</span>, <span style=\"color: #00af00; text-decoration-color: #00af00\">16</span>, <span style=\"color: #00af00; text-decoration-color: #00af00\">16</span>, <span style=\"color: #00af00; text-decoration-color: #00af00\">64</span>)     │        <span style=\"color: #00af00; text-decoration-color: #00af00\">36,928</span> │\n",
       "├─────────────────────────────────┼────────────────────────┼───────────────┤\n",
       "│ max_pooling2d_1 (<span style=\"color: #0087ff; text-decoration-color: #0087ff\">MaxPooling2D</span>)  │ (<span style=\"color: #00d7ff; text-decoration-color: #00d7ff\">None</span>, <span style=\"color: #00af00; text-decoration-color: #00af00\">8</span>, <span style=\"color: #00af00; text-decoration-color: #00af00\">8</span>, <span style=\"color: #00af00; text-decoration-color: #00af00\">64</span>)       │             <span style=\"color: #00af00; text-decoration-color: #00af00\">0</span> │\n",
       "├─────────────────────────────────┼────────────────────────┼───────────────┤\n",
       "│ dropout_1 (<span style=\"color: #0087ff; text-decoration-color: #0087ff\">Dropout</span>)             │ (<span style=\"color: #00d7ff; text-decoration-color: #00d7ff\">None</span>, <span style=\"color: #00af00; text-decoration-color: #00af00\">8</span>, <span style=\"color: #00af00; text-decoration-color: #00af00\">8</span>, <span style=\"color: #00af00; text-decoration-color: #00af00\">64</span>)       │             <span style=\"color: #00af00; text-decoration-color: #00af00\">0</span> │\n",
       "├─────────────────────────────────┼────────────────────────┼───────────────┤\n",
       "│ flatten (<span style=\"color: #0087ff; text-decoration-color: #0087ff\">Flatten</span>)               │ (<span style=\"color: #00d7ff; text-decoration-color: #00d7ff\">None</span>, <span style=\"color: #00af00; text-decoration-color: #00af00\">4096</span>)           │             <span style=\"color: #00af00; text-decoration-color: #00af00\">0</span> │\n",
       "├─────────────────────────────────┼────────────────────────┼───────────────┤\n",
       "│ dense (<span style=\"color: #0087ff; text-decoration-color: #0087ff\">Dense</span>)                   │ (<span style=\"color: #00d7ff; text-decoration-color: #00d7ff\">None</span>, <span style=\"color: #00af00; text-decoration-color: #00af00\">256</span>)            │     <span style=\"color: #00af00; text-decoration-color: #00af00\">1,048,832</span> │\n",
       "├─────────────────────────────────┼────────────────────────┼───────────────┤\n",
       "│ dropout_2 (<span style=\"color: #0087ff; text-decoration-color: #0087ff\">Dropout</span>)             │ (<span style=\"color: #00d7ff; text-decoration-color: #00d7ff\">None</span>, <span style=\"color: #00af00; text-decoration-color: #00af00\">256</span>)            │             <span style=\"color: #00af00; text-decoration-color: #00af00\">0</span> │\n",
       "├─────────────────────────────────┼────────────────────────┼───────────────┤\n",
       "│ dense_1 (<span style=\"color: #0087ff; text-decoration-color: #0087ff\">Dense</span>)                 │ (<span style=\"color: #00d7ff; text-decoration-color: #00d7ff\">None</span>, <span style=\"color: #00af00; text-decoration-color: #00af00\">10</span>)             │         <span style=\"color: #00af00; text-decoration-color: #00af00\">2,570</span> │\n",
       "└─────────────────────────────────┴────────────────────────┴───────────────┘\n",
       "</pre>\n"
      ],
      "text/plain": [
       "┏━━━━━━━━━━━━━━━━━━━━━━━━━━━━━━━━━┳━━━━━━━━━━━━━━━━━━━━━━━━┳━━━━━━━━━━━━━━━┓\n",
       "┃\u001b[1m \u001b[0m\u001b[1mLayer (type)                   \u001b[0m\u001b[1m \u001b[0m┃\u001b[1m \u001b[0m\u001b[1mOutput Shape          \u001b[0m\u001b[1m \u001b[0m┃\u001b[1m \u001b[0m\u001b[1m      Param #\u001b[0m\u001b[1m \u001b[0m┃\n",
       "┡━━━━━━━━━━━━━━━━━━━━━━━━━━━━━━━━━╇━━━━━━━━━━━━━━━━━━━━━━━━╇━━━━━━━━━━━━━━━┩\n",
       "│ images (\u001b[38;5;33mInputLayer\u001b[0m)             │ (\u001b[38;5;45mNone\u001b[0m, \u001b[38;5;34m32\u001b[0m, \u001b[38;5;34m32\u001b[0m, \u001b[38;5;34m3\u001b[0m)      │             \u001b[38;5;34m0\u001b[0m │\n",
       "├─────────────────────────────────┼────────────────────────┼───────────────┤\n",
       "│ augment (\u001b[38;5;33mSequential\u001b[0m)            │ (\u001b[38;5;45mNone\u001b[0m, \u001b[38;5;34m32\u001b[0m, \u001b[38;5;34m32\u001b[0m, \u001b[38;5;34m3\u001b[0m)      │             \u001b[38;5;34m0\u001b[0m │\n",
       "├─────────────────────────────────┼────────────────────────┼───────────────┤\n",
       "│ conv2d (\u001b[38;5;33mConv2D\u001b[0m)                 │ (\u001b[38;5;45mNone\u001b[0m, \u001b[38;5;34m32\u001b[0m, \u001b[38;5;34m32\u001b[0m, \u001b[38;5;34m32\u001b[0m)     │           \u001b[38;5;34m896\u001b[0m │\n",
       "├─────────────────────────────────┼────────────────────────┼───────────────┤\n",
       "│ conv2d_1 (\u001b[38;5;33mConv2D\u001b[0m)               │ (\u001b[38;5;45mNone\u001b[0m, \u001b[38;5;34m32\u001b[0m, \u001b[38;5;34m32\u001b[0m, \u001b[38;5;34m32\u001b[0m)     │         \u001b[38;5;34m9,248\u001b[0m │\n",
       "├─────────────────────────────────┼────────────────────────┼───────────────┤\n",
       "│ max_pooling2d (\u001b[38;5;33mMaxPooling2D\u001b[0m)    │ (\u001b[38;5;45mNone\u001b[0m, \u001b[38;5;34m16\u001b[0m, \u001b[38;5;34m16\u001b[0m, \u001b[38;5;34m32\u001b[0m)     │             \u001b[38;5;34m0\u001b[0m │\n",
       "├─────────────────────────────────┼────────────────────────┼───────────────┤\n",
       "│ dropout (\u001b[38;5;33mDropout\u001b[0m)               │ (\u001b[38;5;45mNone\u001b[0m, \u001b[38;5;34m16\u001b[0m, \u001b[38;5;34m16\u001b[0m, \u001b[38;5;34m32\u001b[0m)     │             \u001b[38;5;34m0\u001b[0m │\n",
       "├─────────────────────────────────┼────────────────────────┼───────────────┤\n",
       "│ conv2d_2 (\u001b[38;5;33mConv2D\u001b[0m)               │ (\u001b[38;5;45mNone\u001b[0m, \u001b[38;5;34m16\u001b[0m, \u001b[38;5;34m16\u001b[0m, \u001b[38;5;34m64\u001b[0m)     │        \u001b[38;5;34m18,496\u001b[0m │\n",
       "├─────────────────────────────────┼────────────────────────┼───────────────┤\n",
       "│ conv2d_3 (\u001b[38;5;33mConv2D\u001b[0m)               │ (\u001b[38;5;45mNone\u001b[0m, \u001b[38;5;34m16\u001b[0m, \u001b[38;5;34m16\u001b[0m, \u001b[38;5;34m64\u001b[0m)     │        \u001b[38;5;34m36,928\u001b[0m │\n",
       "├─────────────────────────────────┼────────────────────────┼───────────────┤\n",
       "│ max_pooling2d_1 (\u001b[38;5;33mMaxPooling2D\u001b[0m)  │ (\u001b[38;5;45mNone\u001b[0m, \u001b[38;5;34m8\u001b[0m, \u001b[38;5;34m8\u001b[0m, \u001b[38;5;34m64\u001b[0m)       │             \u001b[38;5;34m0\u001b[0m │\n",
       "├─────────────────────────────────┼────────────────────────┼───────────────┤\n",
       "│ dropout_1 (\u001b[38;5;33mDropout\u001b[0m)             │ (\u001b[38;5;45mNone\u001b[0m, \u001b[38;5;34m8\u001b[0m, \u001b[38;5;34m8\u001b[0m, \u001b[38;5;34m64\u001b[0m)       │             \u001b[38;5;34m0\u001b[0m │\n",
       "├─────────────────────────────────┼────────────────────────┼───────────────┤\n",
       "│ flatten (\u001b[38;5;33mFlatten\u001b[0m)               │ (\u001b[38;5;45mNone\u001b[0m, \u001b[38;5;34m4096\u001b[0m)           │             \u001b[38;5;34m0\u001b[0m │\n",
       "├─────────────────────────────────┼────────────────────────┼───────────────┤\n",
       "│ dense (\u001b[38;5;33mDense\u001b[0m)                   │ (\u001b[38;5;45mNone\u001b[0m, \u001b[38;5;34m256\u001b[0m)            │     \u001b[38;5;34m1,048,832\u001b[0m │\n",
       "├─────────────────────────────────┼────────────────────────┼───────────────┤\n",
       "│ dropout_2 (\u001b[38;5;33mDropout\u001b[0m)             │ (\u001b[38;5;45mNone\u001b[0m, \u001b[38;5;34m256\u001b[0m)            │             \u001b[38;5;34m0\u001b[0m │\n",
       "├─────────────────────────────────┼────────────────────────┼───────────────┤\n",
       "│ dense_1 (\u001b[38;5;33mDense\u001b[0m)                 │ (\u001b[38;5;45mNone\u001b[0m, \u001b[38;5;34m10\u001b[0m)             │         \u001b[38;5;34m2,570\u001b[0m │\n",
       "└─────────────────────────────────┴────────────────────────┴───────────────┘\n"
      ]
     },
     "metadata": {},
     "output_type": "display_data"
    },
    {
     "data": {
      "text/html": [
       "<pre style=\"white-space:pre;overflow-x:auto;line-height:normal;font-family:Menlo,'DejaVu Sans Mono',consolas,'Courier New',monospace\"><span style=\"font-weight: bold\"> Total params: </span><span style=\"color: #00af00; text-decoration-color: #00af00\">1,116,970</span> (4.26 MB)\n",
       "</pre>\n"
      ],
      "text/plain": [
       "\u001b[1m Total params: \u001b[0m\u001b[38;5;34m1,116,970\u001b[0m (4.26 MB)\n"
      ]
     },
     "metadata": {},
     "output_type": "display_data"
    },
    {
     "data": {
      "text/html": [
       "<pre style=\"white-space:pre;overflow-x:auto;line-height:normal;font-family:Menlo,'DejaVu Sans Mono',consolas,'Courier New',monospace\"><span style=\"font-weight: bold\"> Trainable params: </span><span style=\"color: #00af00; text-decoration-color: #00af00\">1,116,970</span> (4.26 MB)\n",
       "</pre>\n"
      ],
      "text/plain": [
       "\u001b[1m Trainable params: \u001b[0m\u001b[38;5;34m1,116,970\u001b[0m (4.26 MB)\n"
      ]
     },
     "metadata": {},
     "output_type": "display_data"
    },
    {
     "data": {
      "text/html": [
       "<pre style=\"white-space:pre;overflow-x:auto;line-height:normal;font-family:Menlo,'DejaVu Sans Mono',consolas,'Courier New',monospace\"><span style=\"font-weight: bold\"> Non-trainable params: </span><span style=\"color: #00af00; text-decoration-color: #00af00\">0</span> (0.00 B)\n",
       "</pre>\n"
      ],
      "text/plain": [
       "\u001b[1m Non-trainable params: \u001b[0m\u001b[38;5;34m0\u001b[0m (0.00 B)\n"
      ]
     },
     "metadata": {},
     "output_type": "display_data"
    }
   ],
   "source": [
    "\n",
    "def build_cnn(activation: str = \"relu\", input_shape=(32, 32, 3), n_classes: int = 10) -> keras.Model:\n",
    "    inputs = keras.Input(shape=input_shape, name=\"images\")\n",
    "    x = inputs\n",
    "    if do_augment:\n",
    "        x = data_augmentation(x)\n",
    "\n",
    "    # Block A (2 conv layers) -> Pool -> Dropout\n",
    "    x = layers.Conv2D(32, 3, padding=\"same\", activation=activation)(x)\n",
    "    x = layers.Conv2D(32, 3, padding=\"same\", activation=activation)(x)\n",
    "    x = layers.MaxPooling2D()(x)\n",
    "    x = layers.Dropout(0.25)(x)\n",
    "\n",
    "    # Block B (2 conv layers) -> Pool -> Dropout\n",
    "    x = layers.Conv2D(64, 3, padding=\"same\", activation=activation)(x)\n",
    "    x = layers.Conv2D(64, 3, padding=\"same\", activation=activation)(x)\n",
    "    x = layers.MaxPooling2D()(x)\n",
    "    x = layers.Dropout(0.25)(x)\n",
    "\n",
    "    # Classifier head\n",
    "    x = layers.Flatten()(x)\n",
    "    x = layers.Dense(256, activation=activation)(x)\n",
    "    x = layers.Dropout(0.5)(x)\n",
    "    outputs = layers.Dense(n_classes, activation=\"softmax\")(x)\n",
    "    return keras.Model(inputs, outputs, name=f\"cnn_4conv_{activation}\")\n",
    "\n",
    "_ = build_cnn(\"relu\").summary()\n"
   ]
  },
  {
   "cell_type": "markdown",
   "id": "709acb08",
   "metadata": {},
   "source": [
    "\n",
    "## 5) Callbacks: Early Stop (train acc ≥ 0.75) + Epoch Timing\n"
   ]
  },
  {
   "cell_type": "code",
   "execution_count": 9,
   "id": "c1b638cd",
   "metadata": {},
   "outputs": [],
   "source": [
    "\n",
    "class StopOnTrainingAccuracy(keras.callbacks.Callback):\n",
    "    def __init__(self, target_accuracy: float = 0.75):\n",
    "        super().__init__()\n",
    "        self.target_accuracy = target_accuracy\n",
    "\n",
    "    def on_epoch_end(self, epoch, logs=None):\n",
    "        logs = logs or {}\n",
    "        train_acc = logs.get(\"accuracy\") or logs.get(\"sparse_categorical_accuracy\")\n",
    "        if train_acc is not None and train_acc >= self.target_accuracy:\n",
    "            print(f\"\\nReached training accuracy {train_acc:.3f} ≥ {self.target_accuracy:.2f}. Stopping.\")\n",
    "            self.model.stop_training = True\n",
    "\n",
    "class EpochTimeHistory(keras.callbacks.Callback):\n",
    "    # Record time (seconds) for each epoch in self.epoch_times\n",
    "    def on_train_begin(self, logs=None):\n",
    "        self._epoch_start = None\n",
    "        self.epoch_times = []\n",
    "\n",
    "    def on_epoch_begin(self, epoch, logs=None):\n",
    "        self._epoch_start = time.time()\n",
    "\n",
    "    def on_epoch_end(self, epoch, logs=None):\n",
    "        self.epoch_times.append(time.time() - self._epoch_start)\n"
   ]
  },
  {
   "cell_type": "markdown",
   "id": "361070eb",
   "metadata": {},
   "source": [
    "\n",
    "## 6) Compile Helper\n"
   ]
  },
  {
   "cell_type": "code",
   "execution_count": 10,
   "id": "a843215f",
   "metadata": {},
   "outputs": [],
   "source": [
    "\n",
    "def compile_model(model: keras.Model, lr: float = 1e-3):\n",
    "    model.compile(\n",
    "        optimizer=keras.optimizers.Adam(learning_rate=lr),\n",
    "        loss=keras.losses.SparseCategoricalCrossentropy(),\n",
    "        metrics=[\"accuracy\"],\n",
    "    )\n",
    "    return model\n"
   ]
  },
  {
   "cell_type": "markdown",
   "id": "43c1c2d9",
   "metadata": {},
   "source": [
    "\n",
    "## 7) Train Utility\n"
   ]
  },
  {
   "cell_type": "code",
   "execution_count": 11,
   "id": "5a813626",
   "metadata": {},
   "outputs": [],
   "source": [
    "\n",
    "def train_model(activation: str):\n",
    "    model = build_cnn(activation=activation)\n",
    "    compile_model(model)\n",
    "    stop_cb = StopOnTrainingAccuracy(target_accuracy=TARGET_TRAIN_ACCURACY)\n",
    "    time_cb = EpochTimeHistory()\n",
    "    history = model.fit(\n",
    "        train_ds,\n",
    "        validation_data=val_ds,\n",
    "        epochs=MAX_EPOCHS,\n",
    "        callbacks=[stop_cb, time_cb],\n",
    "        verbose=2\n",
    "    )\n",
    "    return model, history, time_cb.epoch_times\n"
   ]
  },
  {
   "cell_type": "markdown",
   "id": "4ff77d49",
   "metadata": {},
   "source": [
    "\n",
    "## 8) Run: ReLU vs Tanh\n"
   ]
  },
  {
   "cell_type": "code",
   "execution_count": null,
   "id": "681c5f3c",
   "metadata": {},
   "outputs": [
    {
     "name": "stdout",
     "output_type": "stream",
     "text": [
      "\n",
      "=== Training with ReLU activation ===\n",
      "Epoch 1/100\n",
      "352/352 - 21s - 58ms/step - accuracy: 0.3688 - loss: 1.7224 - val_accuracy: 0.5208 - val_loss: 1.3479\n",
      "Epoch 2/100\n",
      "352/352 - 19s - 53ms/step - accuracy: 0.4984 - loss: 1.3904 - val_accuracy: 0.5986 - val_loss: 1.1474\n",
      "Epoch 3/100\n"
     ]
    }
   ],
   "source": [
    "\n",
    "histories = {}\n",
    "epoch_times = {}\n",
    "\n",
    "print(\"\\n=== Training with ReLU activation ===\")\n",
    "model_relu, hist_relu, times_relu = train_model(\"relu\")\n",
    "histories[\"relu\"] = hist_relu.history\n",
    "epoch_times[\"relu\"] = times_relu\n",
    "\n",
    "print(\"\\n=== Training with Tanh activation ===\")\n",
    "model_tanh, hist_tanh, times_tanh = train_model(\"tanh\")\n",
    "histories[\"tanh\"] = hist_tanh.history\n",
    "epoch_times[\"tanh\"] = times_tanh\n",
    "\n",
    "print(\"ReLU epochs:\", len(histories[\"relu\"][\"accuracy\"]), \"Tanh epochs:\", len(histories[\"tanh\"][\"accuracy\"]))\n"
   ]
  },
  {
   "cell_type": "markdown",
   "id": "16df1e6b",
   "metadata": {},
   "source": [
    "\n",
    "## 9) Single Figure: Training Error & Time per Epoch\n",
    "- Left y-axis: Training error (1 - accuracy)\n",
    "- Right y-axis: Seconds per epoch\n",
    "- X-axis: Epoch number\n"
   ]
  },
  {
   "cell_type": "code",
   "execution_count": null,
   "id": "ae839f70",
   "metadata": {},
   "outputs": [],
   "source": [
    "\n",
    "# Compute training error arrays\n",
    "relu_train_err = 1 - np.array(histories[\"relu\"][\"accuracy\"], dtype=float)\n",
    "tanh_train_err = 1 - np.array(histories[\"tanh\"][\"accuracy\"], dtype=float)\n",
    "\n",
    "epochs_relu = np.arange(1, len(relu_train_err)+1)\n",
    "epochs_tanh = np.arange(1, len(tanh_train_err)+1)\n",
    "\n",
    "fig, ax1 = plt.subplots(figsize=(9, 5))\n",
    "\n",
    "# Left axis: training error\n",
    "line1, = ax1.plot(epochs_relu, relu_train_err, label=\"ReLU — train error\")\n",
    "line2, = ax1.plot(epochs_tanh, tanh_train_err, linestyle=\"--\", label=\"Tanh — train error\")\n",
    "ax1.set_xlabel(\"Epochs\")\n",
    "ax1.set_ylabel(\"Training error rate\")\n",
    "ax1.grid(True)\n",
    "ax1.axhline(0.25, linestyle=\":\", linewidth=1, label=\"Target error 0.25\")\n",
    "\n",
    "# Right axis: time per epoch\n",
    "ax2 = ax1.twinx()\n",
    "line3, = ax2.plot(np.arange(1, len(epoch_times[\"relu\"])+1), epoch_times[\"relu\"], marker=\"o\", linewidth=1, label=\"ReLU — sec/epoch\")\n",
    "line4, = ax2.plot(np.arange(1, len(epoch_times[\"tanh\"])+1), epoch_times[\"tanh\"], marker=\"x\", linewidth=1, label=\"Tanh — sec/epoch\")\n",
    "ax2.set_ylabel(\"Time per epoch (sec)\")\n",
    "\n",
    "# Combine legends\n",
    "lines = [line1, line2, line3, line4]\n",
    "labels = [l.get_label() for l in lines]\n",
    "ax1.legend(lines, labels, loc=\"best\")\n",
    "plt.title(\"Training Error (left) and Seconds/Epoch (right) — ReLU vs Tanh\")\n",
    "plt.show()\n"
   ]
  },
  {
   "cell_type": "markdown",
   "id": "fdecf92f",
   "metadata": {},
   "source": [
    "\n",
    "## 10) Evaluate on Test Set\n"
   ]
  },
  {
   "cell_type": "code",
   "execution_count": null,
   "id": "52d92efb",
   "metadata": {},
   "outputs": [],
   "source": [
    "\n",
    "loss, acc_relu = model_relu.evaluate(test_ds, verbose=0)\n",
    "loss, acc_tanh = model_tanh.evaluate(test_ds, verbose=0)\n",
    "print({\"relu_test_acc\": float(acc_relu), \"tanh_test_acc\": float(acc_tanh)})\n"
   ]
  }
 ],
 "metadata": {
  "kernelspec": {
   "display_name": "cifar10_env",
   "language": "python",
   "name": "python3"
  },
  "language_info": {
   "codemirror_mode": {
    "name": "ipython",
    "version": 3
   },
   "file_extension": ".py",
   "mimetype": "text/x-python",
   "name": "python",
   "nbconvert_exporter": "python",
   "pygments_lexer": "ipython3",
   "version": "3.9.23"
  }
 },
 "nbformat": 4,
 "nbformat_minor": 5
}
